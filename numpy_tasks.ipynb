{
 "cells": [
  {
   "cell_type": "code",
   "execution_count": null,
   "metadata": {},
   "outputs": [],
   "source": [
    "import numpy as np"
   ]
  },
  {
   "cell_type": "markdown",
   "metadata": {},
   "source": [
    "При выполнение заданий нельзя использовать стандартные средства языка `Python`, там где это можно использовать средства `NumPy`. Нельзя использовать цикл `for`. Задания должны быть сделаны в среде Jupyter и сохранены в файле с расширением `.ipynb`. Решение записывается в ячейке, сразу после условия задачи."
   ]
  },
  {
   "cell_type": "markdown",
   "metadata": {},
   "source": [
    "# Задача 1\n",
    "Создать 10 x 10 матрицу со значениями в строках от 0 до 10. Не использовать при определение матрицы  любые другие  явные описания значений матрицы. "
   ]
  },
  {
   "cell_type": "code",
   "execution_count": null,
   "metadata": {},
   "outputs": [],
   "source": [
    "# решение задачи 1\n"
   ]
  },
  {
   "cell_type": "markdown",
   "metadata": {},
   "source": [
    "# Задача 2.\n",
    "\n",
    "Посчитайте математическое ожидания суммы двух бросков кубика. \n",
    "\n",
    "Задача упрощается, если использовать свойство линейности математического ожидания."
   ]
  },
  {
   "cell_type": "code",
   "execution_count": null,
   "metadata": {},
   "outputs": [],
   "source": [
    "# решение задачи 2\n"
   ]
  },
  {
   "cell_type": "markdown",
   "metadata": {},
   "source": [
    "# Задача 3\n",
    "Построить плотность стандартного нормального распределения $\\phi(x) = \\frac{1}{\\sqrt{2  \\pi}}  e^{-\\frac{1}{2}x^{2}}$ для значений x от -3 до 3 (включительно). \n",
    "\n",
    "В `numpy` есть константа для числа $\\pi$ - `np.pi`."
   ]
  },
  {
   "cell_type": "code",
   "execution_count": null,
   "metadata": {},
   "outputs": [],
   "source": [
    "# решение задачи 3\n"
   ]
  },
  {
   "cell_type": "markdown",
   "metadata": {},
   "source": [
    "# Задача 4\n",
    "Дан массив $a = [1, 2, 3, 4, 5, 6]$ преобразуйте этот массив в массив вида $a = [-1, 1, -2, 2, -3, 3, -4, 4, -5, 5, -6, 6]$. Разрешается создать только один массив, кроме массива, созданным функцией `np.insert`."
   ]
  },
  {
   "cell_type": "code",
   "execution_count": null,
   "metadata": {},
   "outputs": [],
   "source": [
    "# решение задачи 4\n"
   ]
  },
  {
   "cell_type": "markdown",
   "metadata": {},
   "source": [
    "# Задача 5\n",
    "\n",
    "Сгенирируйте массив целых чисел от (1 до 50) из 10 элементов и удалите все элементы кратные трем."
   ]
  },
  {
   "cell_type": "code",
   "execution_count": null,
   "metadata": {},
   "outputs": [],
   "source": [
    "# решение задачи 5\n"
   ]
  },
  {
   "cell_type": "markdown",
   "metadata": {},
   "source": [
    "# Задача 6\n",
    "Сгенерируйте массив значений `bool` из 10 элементов."
   ]
  },
  {
   "cell_type": "code",
   "execution_count": null,
   "metadata": {},
   "outputs": [],
   "source": [
    "# решение задачи 6\n"
   ]
  },
  {
   "cell_type": "markdown",
   "metadata": {},
   "source": [
    "# Задача 7\n",
    "Дан массив  $a=[False,  True,  True,  True,  True, False,  True,  True,  True, False]$, где `True` - правильные ответы, `False` - неправильные ответы на вопрос. Посчитайте долю правильных ответов."
   ]
  },
  {
   "cell_type": "code",
   "execution_count": null,
   "metadata": {},
   "outputs": [],
   "source": [
    "# решение задачи 7\n"
   ]
  },
  {
   "cell_type": "markdown",
   "metadata": {},
   "source": [
    "# Задача 8\n",
    "\n",
    "Сгенерируйте массив целых чисел размера 5 x 5. Поменяйте элементы массива, у которых сумма номера строки и столбца является четным числом, на противоположенные:"
   ]
  },
  {
   "cell_type": "code",
   "execution_count": null,
   "metadata": {},
   "outputs": [],
   "source": [
    "# решение задачи 8\n"
   ]
  },
  {
   "cell_type": "markdown",
   "metadata": {},
   "source": [
    "# Задача 9\n",
    "\n",
    "Сгенерируйте массив целых чисел размера 5 x 5. Поменяйте элементы массива, у которых номер столбца является четным числом, на противоположенные:"
   ]
  },
  {
   "cell_type": "code",
   "execution_count": null,
   "metadata": {},
   "outputs": [],
   "source": [
    "# решение задачи 9\n"
   ]
  },
  {
   "cell_type": "markdown",
   "metadata": {},
   "source": [
    "# Задача 10\n",
    "Сгенерируйте массив целых чисел размера 5 x 5.\n",
    "1. Отсортируйте массив по значениям в столбцах\n",
    "2. Отсортируйте массив по значениям в строках\n",
    "3. Отсортируйте массив сначала по значениям в столбцах, потом по значениям в строках\n",
    "3. Отсортируйте массив сначала по значениям в строках, потом по значениям в столбцах"
   ]
  },
  {
   "cell_type": "code",
   "execution_count": null,
   "metadata": {},
   "outputs": [],
   "source": [
    "# решение задачи 10\n"
   ]
  },
  {
   "cell_type": "markdown",
   "metadata": {},
   "source": [
    "# Задача 11\n",
    "Сгенерируйте массив целых чисел размера 2 x 3. \n",
    "1. Сделайте из него одномерный массив так, чтобы изменения значений нового массива не отражались на значениях сгенерированного массива.\n",
    "2. Сделайте из исходного массива массив 3 x 2."
   ]
  },
  {
   "cell_type": "code",
   "execution_count": null,
   "metadata": {},
   "outputs": [],
   "source": [
    "# решение задачи 11\n"
   ]
  },
  {
   "cell_type": "markdown",
   "metadata": {},
   "source": [
    "# Задача 12\n",
    "Посчитайте скалярное произведение вектора $a = (5, 73, 22, 2)$ на вектор $b = (14, 12, 7, 2)$."
   ]
  },
  {
   "cell_type": "code",
   "execution_count": null,
   "metadata": {},
   "outputs": [],
   "source": [
    "# решение задачи 12\n"
   ]
  },
  {
   "cell_type": "markdown",
   "metadata": {},
   "source": [
    "# Задача 13\n",
    "Решите СЛАУ: <br>\n",
    "$x_{1} + 2x_{2} = 10$ <br>\n",
    "$3x_{1} + 2x_{2} + x_{3} = 23$ <br>\n",
    "$x_{2} + 2x_{3} = 13$ <br>"
   ]
  },
  {
   "cell_type": "code",
   "execution_count": null,
   "metadata": {},
   "outputs": [],
   "source": [
    "# решение задачи 13\n"
   ]
  }
 ],
 "metadata": {
  "kernelspec": {
   "display_name": "Python 3",
   "language": "python",
   "name": "python3"
  },
  "language_info": {
   "codemirror_mode": {
    "name": "ipython",
    "version": 3
   },
   "file_extension": ".py",
   "mimetype": "text/x-python",
   "name": "python",
   "nbconvert_exporter": "python",
   "pygments_lexer": "ipython3",
   "version": "3.8.2"
  }
 },
 "nbformat": 4,
 "nbformat_minor": 4
}
