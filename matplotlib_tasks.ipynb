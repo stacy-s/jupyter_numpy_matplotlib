{
 "cells": [
  {
   "cell_type": "code",
   "execution_count": null,
   "metadata": {},
   "outputs": [],
   "source": [
    "!python3 -m pip install -U matplotlib"
   ]
  },
  {
   "cell_type": "code",
   "execution_count": null,
   "metadata": {},
   "outputs": [],
   "source": [
    "import numpy as np\n",
    "import matplotlib.pyplot as plt\n",
    "%matplotlib inline"
   ]
  },
  {
   "cell_type": "markdown",
   "metadata": {},
   "source": [
    "# Задания по пакету matplotlib"
   ]
  },
  {
   "cell_type": "markdown",
   "metadata": {},
   "source": [
    "Все графики должны быть построены с помощью библиотеки `matplotlib`. Нельзя использовать стандартные средства языка `Python` там, где они могут быть заменены средствами библиотеки `numpy`. Задания должны быть сделаны в среде Jupyter и сохранены в файле с расширением `.ipynb`. Решение записывается в ячейке, сразу после условия задачи."
   ]
  },
  {
   "cell_type": "markdown",
   "metadata": {},
   "source": [
    "## Задание 1\n",
    "\n",
    "Построить окружность синего цвета с центром в точке (0, 0) и радиусом равным 1. Размер рисунка должен быть равен 6 x 6. На графике должна отображаться сетка."
   ]
  },
  {
   "cell_type": "code",
   "execution_count": null,
   "metadata": {},
   "outputs": [],
   "source": [
    "# решение задачи 1\n"
   ]
  },
  {
   "cell_type": "markdown",
   "metadata": {},
   "source": [
    "# Задание 2\n",
    "\n",
    "Постройте функцию $y = tan(x)$. Слева от нее постройте функцию $y = \\frac{1}{tan(x)}$. На каждой панели постройте функции $y = sin(x)$ и $y = cos(x)$. Все графики на каждой панели должны быть разных цветов, необходимо для каждой панели вывести сетку, легенду, а также установить значение по оси __y__ в пределах диапазона от -8 до 8 включительно. Графики не должны быть сжаты по какой либо оси. Это достигается с помощью `plt.subplots`."
   ]
  },
  {
   "cell_type": "code",
   "execution_count": null,
   "metadata": {},
   "outputs": [],
   "source": [
    "# решение задачи 2\n"
   ]
  },
  {
   "attachments": {
    "%D0%B8%D0%B7%D0%BE%D0%B1%D1%80%D0%B0%D0%B6%D0%B5%D0%BD%D0%B8%D0%B5.png": {
     "image/png": "[encoded data removed]"
    }
   },
   "cell_type": "markdown",
   "metadata": {},
   "source": [
    "# Задание 3\n",
    "Программист за январь написал 20 задач на языке Python и 10 задач на языке Kotlin , за февраль - 10 задач на языке Python  и 5 задач на языке Kotlin, за март -  12 задач на языке Python  и 15 задач на языке Kotlin, за апрель - 25 задач на языке Python  и 23 задач на языке Kotlin. На основе этих данных постройте столбчатую диаграмму. По оси x должны быть указаны названия месяцев. К столбцам диаграммы должна быть применена позрачность. У диаграммы должна быть легенда. \n",
    "\n",
    "\n",
    "В результате должна получиться следующая диаграмма:\n",
    "![%D0%B8%D0%B7%D0%BE%D0%B1%D1%80%D0%B0%D0%B6%D0%B5%D0%BD%D0%B8%D0%B5.png](attachment:%D0%B8%D0%B7%D0%BE%D0%B1%D1%80%D0%B0%D0%B6%D0%B5%D0%BD%D0%B8%D0%B5.png)"
   ]
  },
  {
   "cell_type": "code",
   "execution_count": null,
   "metadata": {},
   "outputs": [],
   "source": [
    "# решение задачи 3\n"
   ]
  },
  {
   "cell_type": "markdown",
   "metadata": {},
   "source": [
    "# Задание 4\n",
    "\n",
    "Построить график плотности стандартного нормального распределения $\\phi(x) = \\frac{1}{\\sqrt{2  \\pi}}  e^{-\\frac{1}{2}x^{2}}$ для значений x от -5 до 5 (включительно). График не должен быть сжат по какой либо оси. Также должна присуствовать сетка"
   ]
  },
  {
   "cell_type": "code",
   "execution_count": null,
   "metadata": {},
   "outputs": [],
   "source": [
    "# решение задачи 4\n"
   ]
  }
 ],
 "metadata": {
  "kernelspec": {
   "display_name": "Python 3",
   "language": "python",
   "name": "python3"
  },
  "language_info": {
   "codemirror_mode": {
    "name": "ipython",
    "version": 3
   },
   "file_extension": ".py",
   "mimetype": "text/x-python",
   "name": "python",
   "nbconvert_exporter": "python",
   "pygments_lexer": "ipython3",
   "version": "3.8.2"
  }
 },
 "nbformat": 4,
 "nbformat_minor": 4
}
